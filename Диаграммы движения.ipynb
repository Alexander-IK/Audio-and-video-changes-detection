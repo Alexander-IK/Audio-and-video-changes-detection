{
 "cells": [
  {
   "cell_type": "markdown",
   "id": "32593a09-3f67-4138-92b5-5747d05e8801",
   "metadata": {},
   "source": [
    "## Функции обработки видео-кадров"
   ]
  },
  {
   "cell_type": "code",
   "execution_count": 2,
   "id": "4a29f684-de3e-4041-a047-25734ae9ccd6",
   "metadata": {},
   "outputs": [],
   "source": [
    "import cv2, time\n",
    "import numpy as np\n",
    "import matplotlib.pyplot as plt\n",
    "\n",
    "# Расчёт дифференциальных сумм для соседних кадров попиксельно (не информативно)\n",
    "def diffsums(img_1, img_2):\n",
    "    diffsum = 0\n",
    "    for i in range(0, len(img_1), 10):           \n",
    "        for j in range(0, len(img_1[i]), 10):\n",
    "            diffsum = diffsum + abs(int(img_2[i][j][0]) - int(img_1[i][j][0])) + \\\n",
    "                                abs(int(img_2[i][j][1]) - int(img_1[i][j][1])) + \\\n",
    "                                abs(int(img_2[i][j][2]) - int(img_1[i][j][2]))\n",
    "    return diffsum\n",
    "\n",
    "# Расчёт дифференциальных сумм для соседних кадров по ячейкам\n",
    "\n",
    "# rgb-значения пикселей в ячейке складываются вместе\n",
    "# диф. сумма зависит от изменения интегральных яркостей ячеек\n",
    "def cell_diffsums(img_1, img_2):\n",
    "    diffsum = 0\n",
    "    l_y = int(len(img_1)/10)      # размер ячеек по вертикали\n",
    "    l_x = int(len(img_1[0])/10)   # размер ячеек по горизонтали\n",
    "    for i in range(0, len(img_1)-l_y, l_y):           \n",
    "        for j in range(0, len(img_1[0])-l_x, l_x):\n",
    "            cell_diffsum = 0\n",
    "            for ii in range(i, i+l_y, int(l_y/10)):\n",
    "                for jj in range(j, j+l_x, int(l_x/10)):\n",
    "                    cell_diffsum += int(img_2[ii][jj][0]) - int(img_1[ii][jj][0]) + \\\n",
    "                                    int(img_2[ii][jj][1]) - int(img_1[ii][jj][1]) + \\\n",
    "                                    int(img_2[ii][jj][2]) - int(img_1[ii][jj][2]) \n",
    "            diffsum += abs(cell_diffsum) \n",
    "    return diffsum\n",
    "\n",
    "# rgb-значения пикселей в ячейке складываются по отдельности \n",
    "# диф. сумма зависит от изменения цветов в ячейках, в т.ч. при неизменной интегральной яркости\n",
    "\n",
    "def cell_diffsums_2(img_1, img_2, n, m):\n",
    "    diffsum = 0\n",
    "    l_y = int(len(img_1)*n)         # размер ячеек по вертикали\n",
    "    l_x = int(len(img_1[0])*n)      # размер ячеек по горизонтали    \n",
    "    for i in range(0, len(img_1)-l_y, l_y):           \n",
    "        for j in range(0, len(img_1[0])-l_x, l_x):             \n",
    "            cell_sums_1, cell_sums_2 = [0, 0, 0], [0, 0, 0]\n",
    "            for ii in range(i, i+l_y, int(l_y*m)):      # шаг сетки контрольных точек по вертикали\n",
    "                for jj in range(j, j+l_x, int(l_x*m)):  # шаг сетки контрольных точек по горизонтали           \n",
    "                    cell_sums_1[0] += int(img_1[ii][jj][0])\n",
    "                    cell_sums_2[0] += int(img_2[ii][jj][0])\n",
    "                    cell_sums_1[1] += int(img_1[ii][jj][1])\n",
    "                    cell_sums_2[1] += int(img_2[ii][jj][1])\n",
    "                    cell_sums_1[2] += int(img_1[ii][jj][2])\n",
    "                    cell_sums_2[2] += int(img_2[ii][jj][2])\n",
    "\n",
    "            diffsum += abs(cell_sums_2[0] - cell_sums_1[0]) + abs(cell_sums_2[1] - cell_sums_1[1]) + \\\n",
    "                            abs(cell_sums_2[2] - cell_sums_1[2])\n",
    "    \n",
    "    return diffsum\n",
    "\n",
    "# используются перекрытия ячеек (задаются смещениями sx, sy) - для обнаружения малых смещений объектов на фоне шума\n",
    "\n",
    "def cell_diffsums_3(img_1, img_2, n, m, sx, sy):\n",
    "    diffsums = []\n",
    "    l_y = int(len(img_1)*n)         # размер ячеек по вертикали\n",
    "    l_x = int(len(img_1[0])*n)      # размер ячеек по горизонтали    \n",
    "    for i in range(0, len(img_1)-l_y, int(l_y*sy)):           \n",
    "        for j in range(0, len(img_1[0])-l_x, int(l_x*sx)):             \n",
    "            cell_sums_1, cell_sums_2 = [0, 0, 0], [0, 0, 0]\n",
    "            for ii in range(i, i+l_y, int(l_y*m)):      # шаг сетки контрольных точек по вертикали\n",
    "                for jj in range(j, j+l_x, int(l_x*m)):  # шаг сетки контрольных точек по горизонтали           \n",
    "                    cell_sums_1[0] += int(img_1[ii][jj][0])\n",
    "                    cell_sums_2[0] += int(img_2[ii][jj][0])\n",
    "                    cell_sums_1[1] += int(img_1[ii][jj][1])\n",
    "                    cell_sums_2[1] += int(img_2[ii][jj][1])\n",
    "                    cell_sums_1[2] += int(img_1[ii][jj][2])\n",
    "                    cell_sums_2[2] += int(img_2[ii][jj][2])\n",
    "\n",
    "            diffsums.append(abs(cell_sums_2[0] - cell_sums_1[0]) + abs(cell_sums_2[1] - cell_sums_1[1]) + \\\n",
    "                            abs(cell_sums_2[2] - cell_sums_1[2]))   \n",
    "    return max(diffsums)"
   ]
  },
  {
   "cell_type": "markdown",
   "id": "d61c37c0-c8e4-4e3f-af24-5802f1e8979f",
   "metadata": {},
   "source": [
    "## Один видео-файл"
   ]
  },
  {
   "cell_type": "code",
   "execution_count": 50,
   "id": "5b9683a6-8917-4a64-a28e-27f4f05e31c5",
   "metadata": {},
   "outputs": [
    {
     "name": "stdout",
     "output_type": "stream",
     "text": [
      "длительность видео-фрагмента, m-s: 2-20\n",
      "длительность обработки, m-s: 0-42\n"
     ]
    }
   ],
   "source": [
    "# обработка cell_diffsums\n",
    "\n",
    "cap = cv2.VideoCapture('./test_video/детекция движения/307_test/из файла/307.mp4') \n",
    "\n",
    "t1 = time.time()\n",
    "\n",
    "fps = 30   # число кадров в секунду\n",
    "t, ds = [], []\n",
    "frame_count = int(cap.get(cv2.CAP_PROP_FRAME_COUNT)/5)\n",
    "for k in range(0, frame_count - round(fps), round(fps)):                 # обработка примерно одного кадра в секунду\n",
    "    cap.set(1, k)                                                        # (1, номер кадра - 1)\n",
    "    ret, frame_1 = cap.read()\n",
    "    cap.set(1, k + round(fps))\n",
    "    ret, frame_2 = cap.read()\n",
    "    diffsum = cell_diffsums(frame_1, frame_2)\n",
    "    t.append(int(k/fps))\n",
    "    ds.append(diffsum)\n",
    "    \n",
    "    '''im = cv2.resize(frame, (960, 540)) \n",
    "    cv2.imshow('test', im)\n",
    "    if cv2.waitKey(1) & 0xFF == ord('q'): break'''\n",
    "               \n",
    "cap.release()\n",
    "cv2.destroyAllWindows()\n",
    "t2 = time.time()\n",
    "\n",
    "print('длительность видео-фрагмента, m-s:', str(t[-1]//60) + '-' + str(t[-1]%60))\n",
    "print('длительность обработки, m-s:', str(round(t2 - t1)//60) + '-' + str(round(t2 - t1)%60))"
   ]
  },
  {
   "cell_type": "code",
   "execution_count": 51,
   "id": "fd3a0415-4922-40cc-8a9e-6cacbb497759",
   "metadata": {},
   "outputs": [
    {
     "data": {
      "image/png": "[encoded data removed]",
      "text/plain": [
       "<Figure size 1440x720 with 1 Axes>"
      ]
     },
     "metadata": {
      "needs_background": "light"
     },
     "output_type": "display_data"
    }
   ],
   "source": [
    "# Вывод данных в заданном диапазоне на диаграмме\n",
    "plt.figure(figsize=(20, 10))\n",
    "plt.minorticks_on()\n",
    "plt.grid(True, which='both')\n",
    "n_1, n_2 = 0, len(t)\n",
    "plt.bar(t[n_1:n_2], ds[n_1:n_2])\n",
    "\n",
    "plt.show()"
   ]
  },
  {
   "cell_type": "code",
   "execution_count": 12,
   "id": "38e5a7c0-0d54-48cb-973e-2d83f1997297",
   "metadata": {},
   "outputs": [
    {
     "name": "stdout",
     "output_type": "stream",
     "text": [
      "длительность видео-фрагмента, m-s: 1.0-28.08\n",
      "длительность обработки, m-s: 0-55\n"
     ]
    }
   ],
   "source": [
    "# обработка cell_diffsums_2, cell_diffsums_3\n",
    "\n",
    "cap = cv2.VideoCapture('./test_video/детекция движения/307_test/из файла/307.mp4') \n",
    "\n",
    "t1 = time.time()\n",
    "\n",
    "fps = 30.04  # число кадров в секунду\n",
    "n = 0.1\n",
    "m = 0.2\n",
    "t, ds2, ds3 = [], [], []\n",
    "\n",
    "frame_count = int(cap.get(cv2.CAP_PROP_FRAME_COUNT))\n",
    "for k in range(0, frame_count - round(fps), round(fps*0.2)):                 # обработка кадров с заданным шагом\n",
    "    cap.set(1, k)                                                          # (1, номер кадра - 1)\n",
    "    ret, frame_1 = cap.read()\n",
    "    cap.set(1, k + round(fps*0.2))                                           # задержка между кадрами\n",
    "    ret, frame_2 = cap.read()\n",
    "    #diffsum2 = cell_diffsums_2(frame_1, frame_2, n, m)\n",
    "    diffsum3 = cell_diffsums_3(frame_1, frame_2, n, m, 0.25, 1)\n",
    "    t.append(round(k/fps, 2))\n",
    "    #ds2.append(diffsum2)\n",
    "    ds3.append(diffsum3)\n",
    "    \n",
    "    '''im = cv2.resize(frame, (960, 540)) \n",
    "    cv2.imshow('test', im)\n",
    "    if cv2.waitKey(1) & 0xFF == ord('q'): break'''\n",
    "               \n",
    "cap.release()\n",
    "cv2.destroyAllWindows()\n",
    "t2 = time.time()\n",
    "\n",
    "print('длительность видео-фрагмента, m-s:', str(t[-1]//60) + '-' + str(t[-1]%60))\n",
    "print('длительность обработки, m-s:', str(round(t2 - t1)//60) + '-' + str(round(t2 - t1)%60))"
   ]
  },
  {
   "cell_type": "code",
   "execution_count": 13,
   "id": "fd15ddeb-d893-4533-8976-96b4aee3c6fb",
   "metadata": {},
   "outputs": [
    {
     "data": {
      "image/png": "[encoded data removed]",
      "text/plain": [
       "<Figure size 1440x720 with 1 Axes>"
      ]
     },
     "metadata": {
      "needs_background": "light"
     },
     "output_type": "display_data"
    }
   ],
   "source": [
    "# Вывод данных в заданном диапазоне на диаграмме\n",
    "plt.figure(figsize=(20, 10))\n",
    "plt.minorticks_on()\n",
    "plt.grid(True, which='both')\n",
    "n_1, n_2 = 0, len(t)\n",
    "#plt.bar(t[n_1:n_2], ds2[n_1:n_2])\n",
    "plt.bar(t[n_1:n_2], ds3[n_1:n_2])\n",
    "plt.show()"
   ]
  },
  {
   "cell_type": "markdown",
   "id": "277185dc-baa1-4ba1-be6d-f9d71ece4238",
   "metadata": {},
   "source": [
    "## Видео-стрим"
   ]
  },
  {
   "cell_type": "code",
   "execution_count": 2,
   "id": "674457b2-001a-4757-94ad-b01ddd845da2",
   "metadata": {},
   "outputs": [
    {
     "name": "stderr",
     "output_type": "stream",
     "text": [
      "[rtsp @ 0x1b22f80] method SETUP failed: 461 Client error\n",
      "[h264 @ 0x1b36400] co located POCs unavailable\n",
      "[h264 @ 0x2351340] co located POCs unavailable\n",
      "[h264 @ 0x2db97c0] co located POCs unavailable\n",
      "[h264 @ 0x2418e80] mmco: unref short failure\n",
      "[h264 @ 0x2331b00] error while decoding MB 99 63, bytestream -7\n"
     ]
    }
   ],
   "source": [
    "# 2 параллельных потока, обращающихся к массиву кадра (frame) + mutex\n",
    "# обработка кадров функцией cell_diffsums_2\n",
    "\n",
    "import threading\n",
    "\n",
    "cap = cv2.VideoCapture('rtsp://192.168.13.133:8554/test')\n",
    "\n",
    "T = time.time()     # время захвата стрима\n",
    "mutex = threading.Lock()\n",
    "\n",
    "ret = True\n",
    "frame, t, ds = [], [], []\n",
    "n = 0.01    # относительный размер ячеек\n",
    "m = 0.2    # относительный шаг контрольных точек в ячейках\n",
    "d = 0.2    # задержка между кадрами в паре\n",
    "sx = 1     # шаг смещения ячеек по горизонтали\n",
    "sy = 1     # шаг смещения ячеек по вертикали\n",
    "\n",
    "def frame_reading():\n",
    "    global t_cur, ret, frame, dt\n",
    "    while True: \n",
    "        with mutex:\n",
    "            t_cur = time.time()  # текущее время\n",
    "            dt = round(t_cur - T, 3)\n",
    "            ret, frame = cap.read()   \n",
    "            if not ret: break \n",
    "        #im = cv2.resize(frame, (960, 540)) \n",
    "        #cv2.imshow('video feed', im) \n",
    "        if (cv2.waitKey(1) & 0xFF == ord('q')) or dt > 85:\n",
    "            ret = False\n",
    "            break   \n",
    "    cap.release()\n",
    "    cv2.destroyAllWindows()\n",
    "    \n",
    "def frame_processing():\n",
    "    global t, dt, ds\n",
    "    while True:\n",
    "        if not ret: break\n",
    "        if not len(frame): continue   \n",
    "        frame_1 = frame\n",
    "        time.sleep(d)    # задержка между обрабатываемыми кадрами\n",
    "        frame_2 = frame\n",
    "        diffsum = cell_diffsums_2(frame_1, frame_2, n, m)\n",
    "        #diffsum = cell_diffsums_3(frame_1, frame_2, n, m, sx, sy)\n",
    "        t.append(dt)\n",
    "        ds.append(diffsum) \n",
    "\n",
    "        \n",
    "th1 = threading.Thread(target=frame_reading)\n",
    "th2 = threading.Thread(target=frame_processing)\n",
    "\n",
    "th1.start()\n",
    "th2.start()\n",
    "\n",
    "th1.join()\n",
    "th2.join()"
   ]
  },
  {
   "cell_type": "code",
   "execution_count": 3,
   "id": "6becec59-a786-40e0-acab-a9ca03e20da1",
   "metadata": {},
   "outputs": [
    {
     "name": "stdout",
     "output_type": "stream",
     "text": [
      "start stream: 2022-08-04 15:03:01\n",
      "stop stream: 2022-08-04 15:04:26\n",
      "количество диф. сумм: 77\n",
      "относительный размер ячеек: 0.01\n",
      "относительный шаг смещения ячеек по горизонтали и вертикали: 1 ; 1\n",
      "относительный шаг сетки контрольных точек в ячейках: 0.2\n",
      "задержка между кадрами в паре, c: 0.2\n"
     ]
    },
    {
     "data": {
      "image/png": "[encoded data removed]",
      "text/plain": [
       "<Figure size 1440x720 with 1 Axes>"
      ]
     },
     "metadata": {
      "needs_background": "light"
     },
     "output_type": "display_data"
    }
   ],
   "source": [
    "# Вывод данных в заданном диапазоне на диаграмме\n",
    "\n",
    "# Временной диапазон захвата видеопотока\n",
    "import datetime\n",
    "ts_1, ts_2 = int(T), int(t_cur)\n",
    "print('start stream:', datetime.datetime.fromtimestamp(ts_1).strftime('%Y-%m-%d %H:%M:%S'))\n",
    "print('stop stream:', datetime.datetime.fromtimestamp(ts_2).strftime('%Y-%m-%d %H:%M:%S'))\n",
    "\n",
    "plt.figure(figsize=(20, 10))\n",
    "plt.minorticks_on()\n",
    "plt.grid(True, which='both')\n",
    "n_1, n_2 = 0, len(t)\n",
    "print('количество диф. сумм:',len(t))\n",
    "print('относительный размер ячеек:', n)\n",
    "print('относительный шаг смещения ячеек по горизонтали и вертикали:', sx, ';', sy)\n",
    "print('относительный шаг сетки контрольных точек в ячейках:', m)\n",
    "print('задержка между кадрами в паре, c:', d)\n",
    "plt.bar(t[n_1:n_2], ds[n_1:n_2])\n",
    "\n",
    "plt.show()"
   ]
  },
  {
   "cell_type": "code",
   "execution_count": null,
   "id": "e4a379ba-76b8-440d-b477-fd1f2fa10465",
   "metadata": {},
   "outputs": [],
   "source": []
  }
 ],
 "metadata": {
  "kernelspec": {
   "display_name": "Python 3 (ipykernel)",
   "language": "python",
   "name": "python3"
  },
  "language_info": {
   "codemirror_mode": {
    "name": "ipython",
    "version": 3
   },
   "file_extension": ".py",
   "mimetype": "text/x-python",
   "name": "python",
   "nbconvert_exporter": "python",
   "pygments_lexer": "ipython3",
   "version": "3.8.10"
  }
 },
 "nbformat": 4,
 "nbformat_minor": 5
}
